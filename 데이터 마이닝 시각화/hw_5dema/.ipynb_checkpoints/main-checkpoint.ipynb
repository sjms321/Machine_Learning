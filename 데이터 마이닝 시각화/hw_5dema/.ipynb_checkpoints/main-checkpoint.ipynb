{
 "cells": [
  {
   "cell_type": "code",
   "execution_count": 1,
   "metadata": {},
   "outputs": [
    {
     "ename": "ModuleNotFoundError",
     "evalue": "No module named 'matplotlib'",
     "output_type": "error",
     "traceback": [
      "\u001b[1;31m---------------------------------------------------------------------------\u001b[0m",
      "\u001b[1;31mModuleNotFoundError\u001b[0m                       Traceback (most recent call last)",
      "\u001b[1;32m<ipython-input-1-0acfe5d411ff>\u001b[0m in \u001b[0;36m<module>\u001b[1;34m\u001b[0m\n\u001b[0;32m      1\u001b[0m \u001b[1;32mimport\u001b[0m \u001b[0mnumpy\u001b[0m \u001b[1;32mas\u001b[0m \u001b[0mnp\u001b[0m\u001b[1;33m\u001b[0m\u001b[1;33m\u001b[0m\u001b[0m\n\u001b[1;32m----> 2\u001b[1;33m \u001b[1;32mimport\u001b[0m  \u001b[0mmatplotlib\u001b[0m\u001b[1;33m.\u001b[0m\u001b[0mpyplot\u001b[0m \u001b[1;32mas\u001b[0m \u001b[0mplt\u001b[0m\u001b[1;33m\u001b[0m\u001b[1;33m\u001b[0m\u001b[0m\n\u001b[0m\u001b[0;32m      3\u001b[0m \u001b[1;33m\u001b[0m\u001b[0m\n\u001b[0;32m      4\u001b[0m \u001b[1;32mdef\u001b[0m \u001b[0mmain\u001b[0m\u001b[1;33m(\u001b[0m\u001b[1;33m)\u001b[0m\u001b[1;33m:\u001b[0m\u001b[1;33m\u001b[0m\u001b[1;33m\u001b[0m\u001b[0m\n\u001b[0;32m      5\u001b[0m     \u001b[0mScore\u001b[0m \u001b[1;33m=\u001b[0m \u001b[0mnp\u001b[0m\u001b[1;33m.\u001b[0m\u001b[0mrandom\u001b[0m\u001b[1;33m.\u001b[0m\u001b[0mrandint\u001b[0m\u001b[1;33m(\u001b[0m\u001b[1;36m100\u001b[0m\u001b[1;33m,\u001b[0m \u001b[0msize\u001b[0m\u001b[1;33m=\u001b[0m\u001b[1;33m(\u001b[0m\u001b[1;36m10\u001b[0m\u001b[1;33m,\u001b[0m \u001b[1;36m4\u001b[0m\u001b[1;33m)\u001b[0m\u001b[1;33m)\u001b[0m\u001b[1;33m\u001b[0m\u001b[1;33m\u001b[0m\u001b[0m\n",
      "\u001b[1;31mModuleNotFoundError\u001b[0m: No module named 'matplotlib'"
     ]
    }
   ],
   "source": [
    "import numpy as np\n",
    "import  matplotlib.pyplot as plt\n",
    "\n",
    "def main():\n",
    "    Score = np.random.randint(100, size=(10, 4))\n",
    "    one(Score)\n",
    "    two(Score)\n",
    "    three(Score)\n",
    "    four(Score)\n",
    "\n",
    "def one(Score):\n",
    "    y=Score[:,:1]\n",
    "    x=Score[:,1:2]\n",
    "    fig =plt.figure()\n",
    "\n",
    "    plt.xlabel(\"English\")\n",
    "    plt.ylabel(\"Korean\")\n",
    "    plt.scatter(x,y,marker='^')\n",
    "    plt.show()\n",
    "def two(Score):\n",
    "    fig = plt.figure(figsize=(10, 10))\n",
    "\n",
    "    grid = plt.GridSpec(2, 2, hspace=0.2, wspace=0.2)\n",
    "    korean= Score[:,:1]\n",
    "    english = Score[:,1:2]\n",
    "    math = Score[:,2:3]\n",
    "    science = Score[:,3:]\n",
    "    k_hist = fig.add_subplot(grid[:1,:1])\n",
    "    plt.xlabel(\"Korea\")\n",
    "    plt.ylabel(\"count\")\n",
    "    e_hist = fig.add_subplot(grid[:1,1:])\n",
    "    plt.xlabel(\"english\")\n",
    "    plt.ylabel(\"count\")\n",
    "    m_hist = fig.add_subplot(grid[1:,:1])\n",
    "    plt.xlabel(\"math\")\n",
    "    plt.ylabel(\"count\")\n",
    "    s_hist = fig.add_subplot(grid[1:,1:])\n",
    "    plt.xlabel(\"science\")\n",
    "    plt.ylabel(\"count\")\n",
    "    k_hist.hist(korean)\n",
    "    e_hist.hist(english)\n",
    "    m_hist.hist(math)\n",
    "    s_hist.hist(science)\n",
    "\n",
    "    plt.show()\n",
    "\n",
    "def three(Score):\n",
    "    B=  np.logical_and(Score[:,:1]>=80,Score[:,:1]<90)\n",
    "    C =np.logical_and(Score[:,:1]>=70,Score[:,:1]<80)\n",
    "    arrlist = [np.count_nonzero(Score[:,:1]>=90),\n",
    "               np.count_nonzero(B),\n",
    "               np.count_nonzero(C),\n",
    "               np.count_nonzero(Score[:,:1]<70)]\n",
    "    label = ['A', 'B', 'C','D']\n",
    "    plt.pie(arrlist, labels=label)\n",
    "    plt.show()\n",
    "def four(Score):\n",
    "    arrlist=np.array(Score)\n",
    "    plt.boxplot(arrlist,labels=(\"Kor\",\"Eng\",\"Math\",\"Science\"))\n",
    "    plt.show()\n",
    "main()"
   ]
  },
  {
   "cell_type": "code",
   "execution_count": null,
   "metadata": {},
   "outputs": [],
   "source": []
  }
 ],
 "metadata": {
  "anaconda-cloud": {},
  "kernelspec": {
   "display_name": "Python 3",
   "language": "python",
   "name": "python3"
  },
  "language_info": {
   "codemirror_mode": {
    "name": "ipython",
    "version": 3
   },
   "file_extension": ".py",
   "mimetype": "text/x-python",
   "name": "python",
   "nbconvert_exporter": "python",
   "pygments_lexer": "ipython3",
   "version": "3.7.1"
  }
 },
 "nbformat": 4,
 "nbformat_minor": 4
}
