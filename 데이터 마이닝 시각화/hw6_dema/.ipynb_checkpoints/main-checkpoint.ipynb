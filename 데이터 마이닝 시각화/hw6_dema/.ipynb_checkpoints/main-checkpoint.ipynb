{
 "cells": [
  {
   "cell_type": "code",
   "execution_count": 1,
   "metadata": {},
   "outputs": [
    {
     "ename": "ModuleNotFoundError",
     "evalue": "No module named 'sklearn'",
     "output_type": "error",
     "traceback": [
      "\u001b[1;31m---------------------------------------------------------------------------\u001b[0m",
      "\u001b[1;31mModuleNotFoundError\u001b[0m                       Traceback (most recent call last)",
      "\u001b[1;32m<ipython-input-1-a34de8d367f2>\u001b[0m in \u001b[0;36m<module>\u001b[1;34m\u001b[0m\n\u001b[1;32m----> 1\u001b[1;33m \u001b[1;32mfrom\u001b[0m \u001b[0msklearn\u001b[0m\u001b[1;33m.\u001b[0m\u001b[0mdatasets\u001b[0m \u001b[1;32mimport\u001b[0m \u001b[0mload_iris\u001b[0m\u001b[1;33m\u001b[0m\u001b[1;33m\u001b[0m\u001b[0m\n\u001b[0m\u001b[0;32m      2\u001b[0m \u001b[1;32mimport\u001b[0m \u001b[0mmatplotlib\u001b[0m\u001b[1;33m.\u001b[0m\u001b[0mpyplot\u001b[0m \u001b[1;32mas\u001b[0m \u001b[0mplt\u001b[0m\u001b[1;33m\u001b[0m\u001b[1;33m\u001b[0m\u001b[0m\n\u001b[0;32m      3\u001b[0m \u001b[1;32mimport\u001b[0m \u001b[0mpandas\u001b[0m \u001b[1;32mas\u001b[0m \u001b[0mpd\u001b[0m\u001b[1;33m\u001b[0m\u001b[1;33m\u001b[0m\u001b[0m\n\u001b[0;32m      4\u001b[0m \u001b[1;32mimport\u001b[0m \u001b[0mnumpy\u001b[0m \u001b[1;32mas\u001b[0m \u001b[0mnp\u001b[0m\u001b[1;33m\u001b[0m\u001b[1;33m\u001b[0m\u001b[0m\n\u001b[0;32m      5\u001b[0m \u001b[0miris\u001b[0m \u001b[1;33m=\u001b[0m \u001b[0mload_iris\u001b[0m\u001b[1;33m(\u001b[0m\u001b[1;33m)\u001b[0m\u001b[1;33m\u001b[0m\u001b[1;33m\u001b[0m\u001b[0m\n",
      "\u001b[1;31mModuleNotFoundError\u001b[0m: No module named 'sklearn'"
     ]
    }
   ],
   "source": [
    "from sklearn.datasets import load_iris\n",
    "import matplotlib.pyplot as plt\n",
    "import pandas as pd\n",
    "import numpy as np\n",
    "iris = load_iris()\n",
    "it = iris.target.reshape((150,1))\n",
    "ir = np.concatenate([iris.data,it],axis=1)\n",
    "df=pd.DataFrame(ir,columns=['sepal length (cm)','sepal width (cm)','petal length (cm)','petal width (cm)','target'])\n",
    "df['targetNmae']=np.where(df['target']==0,\"setosa\",np.where(df['target']==1,\"versicolor\",\"virginica\"))\n",
    "print(df.head())\n",
    "\n",
    "fig = plt.figure()\n",
    "x1=df.iloc[:50,:1]\n",
    "x2=df.iloc[50:100,:1]\n",
    "y1=df.iloc[:50,1:2]\n",
    "y2=df.iloc[50:100,1:2]\n",
    "x3=df.iloc[100:150,:1]\n",
    "y3=df.iloc[100:150,1:2]\n",
    "plt.xlabel(\"sepal length\")\n",
    "plt.ylabel(\"sepal width\")\n",
    "plt.plot(x1,y1,'o',label = 'setosa')\n",
    "plt.plot(x2,y2,'or',label = 'versicolor')\n",
    "plt.plot(x3,y3,'x',label = 'virginica')\n",
    "plt.legend()\n",
    "\n",
    "fig = plt.figure()\n",
    "x4=df.iloc[:50,2:3]\n",
    "x5=df.iloc[50:100,2:3]\n",
    "y4=df.iloc[:50,3:4]\n",
    "y5=df.iloc[50:100,3:4]\n",
    "x6=df.iloc[100:150,2:3]\n",
    "y6=df.iloc[100:150,3:4]\n",
    "plt.xlabel(\"petal length\")\n",
    "plt.ylabel(\"petal width\")\n",
    "plt.plot(x4,y4,'ob',label = 'setosa')\n",
    "plt.plot(x5,y5,'or',label = 'versicolor')\n",
    "plt.plot(x6,y6,'xk',label = 'virginica')\n",
    "plt.legend()\n",
    "plt.show()"
   ]
  },
  {
   "cell_type": "code",
   "execution_count": null,
   "metadata": {},
   "outputs": [],
   "source": []
  }
 ],
 "metadata": {
  "anaconda-cloud": {},
  "kernelspec": {
   "display_name": "Python 3",
   "language": "python",
   "name": "python3"
  },
  "language_info": {
   "codemirror_mode": {
    "name": "ipython",
    "version": 3
   },
   "file_extension": ".py",
   "mimetype": "text/x-python",
   "name": "python",
   "nbconvert_exporter": "python",
   "pygments_lexer": "ipython3",
   "version": "3.7.1"
  }
 },
 "nbformat": 4,
 "nbformat_minor": 4
}
